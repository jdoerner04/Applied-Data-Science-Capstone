{
    "cells": [
        {
            "cell_type": "markdown",
            "metadata": {
                "collapsed": true
            },
            "source": "## Data "
        },
        {
            "cell_type": "markdown",
            "metadata": {},
            "source": "We will be using the Scarborough datatset that was gathered in week 3 of this course. This dataset consists of latitude, longitude and zip codes."
        },
        {
            "cell_type": "markdown",
            "metadata": {},
            "source": "## API Data:"
        },
        {
            "cell_type": "markdown",
            "metadata": {},
            "source": "For this project we will need data about different venues in the neighborhoods surrounding the area. From a list of the neighborhoods, we will utilize the Foursquare API to gather more information about the venues in each of the neighborhoods withing a radius of 100m. The follwoing information can be gathered form the venue endpoint: neighborhood, neighborhood latitude, neighborhood longitude, name of the venue, venue category, venue latitude, venue longitude.\n\nThe following python libraries will also be used in this project: Matplotlib, Pandas, Folium, Scikit, JSON, XML, Geocoder, Beautiful."
        },
        {
            "cell_type": "code",
            "execution_count": null,
            "metadata": {},
            "outputs": [],
            "source": ""
        }
    ],
    "metadata": {
        "kernelspec": {
            "display_name": "Python 3.7",
            "language": "python",
            "name": "python3"
        },
        "language_info": {
            "codemirror_mode": {
                "name": "ipython",
                "version": 3
            },
            "file_extension": ".py",
            "mimetype": "text/x-python",
            "name": "python",
            "nbconvert_exporter": "python",
            "pygments_lexer": "ipython3",
            "version": "3.7.9"
        }
    },
    "nbformat": 4,
    "nbformat_minor": 1
}