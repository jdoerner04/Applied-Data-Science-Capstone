{
    "cells": [
        {
            "cell_type": "markdown",
            "metadata": {
                "collapsed": true
            },
            "source": "# What's the Best Neighborhood for you?"
        },
        {
            "cell_type": "markdown",
            "metadata": {},
            "source": "## Introduction:"
        },
        {
            "cell_type": "markdown",
            "metadata": {},
            "source": "A lot of people would like to know more about the neighborhoods they are looking to move to. Having more info about the neighborhood will enable the person to make a more informed decision about where they move. There are many people who are looking to move Canada and would need to know what's in the various neighborhoods and if it would be a good choice for themselves or their families.\n\nThe goal of this project is the analysis of the neighborhoods surrounding the Scarborough area. This will include looking at crime rates, weather, housing costs and school ratings. I chose the location of Scarborough because of how diverse it is in the Toronto area, which lends itself to a diverse set of neighborhoods that a newcomer may be unaware of."
        },
        {
            "cell_type": "markdown",
            "metadata": {},
            "source": "## Problem to solve:"
        },
        {
            "cell_type": "markdown",
            "metadata": {},
            "source": "The main goal of this project is to inform a person who is not familiar with the area and who is looking to move, what the best neighborhood for them may be. Will provide the user with a list of homes in terms of price and a list of schools in terms of ratings, reviews, fees, and their location."
        },
        {
            "cell_type": "markdown",
            "metadata": {},
            "source": "## Foursquare API use:"
        },
        {
            "cell_type": "markdown",
            "metadata": {},
            "source": "The API provided by Foursquare will be utilized, this is because of its database of millions of places. This will allow us to perform location based searches and details about the business in the area."
        },
        {
            "cell_type": "markdown",
            "metadata": {},
            "source": "## Clustering"
        },
        {
            "cell_type": "markdown",
            "metadata": {},
            "source": "Two find a city that is equally diverse in it's neighborhoods, we will be doing a comparison between New York and Scarborough, Toronto. To compare them, there will be a need to segment and group them to find neighborhoods and to do that we will need to cluster the data using the k-means clustering algorithm."
        },
        {
            "cell_type": "code",
            "execution_count": null,
            "metadata": {},
            "outputs": [],
            "source": ""
        }
    ],
    "metadata": {
        "kernelspec": {
            "display_name": "Python 3.7",
            "language": "python",
            "name": "python3"
        },
        "language_info": {
            "codemirror_mode": {
                "name": "ipython",
                "version": 3
            },
            "file_extension": ".py",
            "mimetype": "text/x-python",
            "name": "python",
            "nbconvert_exporter": "python",
            "pygments_lexer": "ipython3",
            "version": "3.7.9"
        }
    },
    "nbformat": 4,
    "nbformat_minor": 1
}